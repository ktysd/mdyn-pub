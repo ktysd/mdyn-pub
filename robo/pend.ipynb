{
 "cells": [
  {
   "cell_type": "markdown",
   "metadata": {
    "colab_type": "text",
    "id": "Bz63XXrov7gI"
   },
   "source": [
    "## 機械力学テキスト 12章 ロボットシミュレーション\n",
    "# プログラム例と実習\n",
    "#### 宇都宮大学　吉田 勝俊"
   ]
  },
  {
   "cell_type": "markdown",
   "metadata": {},
   "source": [
    "### 重要な注意\n",
    "- このNotebookを開いただけの状態では，編集結果は保存されないので，各自，「ファイル」メニューから「ドライブにコピーを保存」してください．\n",
    "- 操作方法の詳細は，[Python 入門（メディア授業兼用）](https://github.com/ktysd/python-startup/wiki) で勉強してください．"
   ]
  },
  {
   "cell_type": "markdown",
   "metadata": {
    "colab_type": "text",
    "id": "Q7Q3cjoXv7gN"
   },
   "source": [
    "### １．使用するライブラリの読込"
   ]
  },
  {
   "cell_type": "code",
   "execution_count": null,
   "metadata": {
    "colab": {},
    "colab_type": "code",
    "executionInfo": {
     "elapsed": 769,
     "status": "ok",
     "timestamp": 1593045615945,
     "user": {
      "displayName": "",
      "photoUrl": "",
      "userId": ""
     },
     "user_tz": -540
    },
    "id": "YeGd8dhDv7gQ"
   },
   "outputs": [],
   "source": [
    "#この枠をクリックしてアクティブにしてから，Shiftを押しながらEnterを押すと，枠内のコードが実行されます．以下同じです．\n",
    "# '#'記号のあとの内容を「コメントアウト」と呼び，実行時に無視されます．\n",
    "\n",
    "import numpy as np                 #数値計算ライブラリ\n",
    "from math import sin, cos          #低機能だが計算が速い三角関数\n",
    "from scipy.integrate import odeint #常微分方程式ライブラリ\n",
    "import matplotlib.pyplot as plt    #グラフ作成ライブラリ\n",
    "from matplotlib.animation import FuncAnimation #アニメーションライブラリ\n",
    "from matplotlib import rc          #グラフ調整ライブラリ\n",
    "from IPython.display import HTML   #ユーザーインターフェース拡張ライブラリ"
   ]
  },
  {
   "cell_type": "markdown",
   "metadata": {
    "colab_type": "text",
    "id": "qs42Acf5v7gk"
   },
   "source": [
    "### ２．運動方程式の数値解を求める関数"
   ]
  },
  {
   "cell_type": "markdown",
   "metadata": {
    "colab_type": "text",
    "id": "SF_9XUzqv7gq"
   },
   "source": [
    "#### パラメータの設定"
   ]
  },
  {
   "cell_type": "code",
   "execution_count": null,
   "metadata": {},
   "outputs": [],
   "source": [
    "M = 2/3 #台車の質量\n",
    "m = 1/3 #振り子の質量\n",
    "l = 1   #振り子の長さ"
   ]
  },
  {
   "cell_type": "markdown",
   "metadata": {},
   "source": [
    "#### 数値解を求める関数"
   ]
  },
  {
   "cell_type": "code",
   "execution_count": null,
   "metadata": {
    "colab": {},
    "colab_type": "code",
    "executionInfo": {
     "elapsed": 761,
     "status": "ok",
     "timestamp": 1593045620736,
     "user": {
      "displayName": "",
      "photoUrl": "",
      "userId": ""
     },
     "user_tz": -540
    },
    "id": "5iHyKSZgv7gr"
   },
   "outputs": [],
   "source": [
    "def Solve(xx0, force):\n",
    "    \n",
    "    ### 運動方程式を1階化した微分方程式の定義\n",
    "    def eom(xx,t):\n",
    "        #注　python は配列の添字が0から\n",
    "        x   = xx[0] #台車の変位\n",
    "        dx  = xx[1] #台車の速度\n",
    "        th  = xx[2] #振り子の角度\n",
    "        dth = xx[3] #振り子の角速度\n",
    "    \n",
    "        ft = force(xx) #制御力\n",
    "    \n",
    "        A = np.array( #行列\n",
    "            [\n",
    "                [M+m,        m*l*cos(th)],\n",
    "                [np.cos(th), l]\n",
    "            ]\n",
    "        )\n",
    "    \n",
    "        bb = np.array( #右辺のベクトル\n",
    "            [m*l*(dth**2)*sin(th)+ft, 9.8*sin(th)]\n",
    "        )\n",
    "    \n",
    "        A_inv = np.linalg.inv(A) #逆行列\n",
    "        hh = np.dot(A_inv, bb)   #逆行列とベクトルの積\n",
    "    \n",
    "        dxx = np.array( #1階微分のベクトル\n",
    "            [dx, hh[0], dth, hh[1]]\n",
    "        )\n",
    "    \n",
    "        return dxx\n",
    "    ###ここまで\n",
    "    \n",
    "    ### 時間軸を表す等差数列\n",
    "    n = 200 #時刻の数\n",
    "    ts = np.linspace(0, 25, n) #0秒から25秒までn等分\n",
    "    \n",
    "    ### 差分解法（数値積分）\n",
    "    xxs = odeint(eom, xx0, ts)\n",
    "\n",
    "    return (ts,xxs)"
   ]
  },
  {
   "cell_type": "markdown",
   "metadata": {},
   "source": [
    "### ３．実際に数値解を求める"
   ]
  },
  {
   "cell_type": "markdown",
   "metadata": {},
   "source": [
    "#### 外力を与える関数（ひとまず外力は０にしておく）"
   ]
  },
  {
   "cell_type": "code",
   "execution_count": null,
   "metadata": {},
   "outputs": [],
   "source": [
    "def force(xx):\n",
    "    return 0"
   ]
  },
  {
   "cell_type": "markdown",
   "metadata": {},
   "source": [
    "#### 初期値の設定（ちょっと傾いて静止）"
   ]
  },
  {
   "cell_type": "code",
   "execution_count": null,
   "metadata": {},
   "outputs": [],
   "source": [
    "xx0 = np.array([0, 0, 0.5, 0]) #時刻t=0 のx, dx, th, dth"
   ]
  },
  {
   "cell_type": "markdown",
   "metadata": {},
   "source": [
    "#### そのときの数値解を求める"
   ]
  },
  {
   "cell_type": "code",
   "execution_count": null,
   "metadata": {},
   "outputs": [],
   "source": [
    "ts, xxs = Solve(xx0, force)"
   ]
  },
  {
   "cell_type": "markdown",
   "metadata": {},
   "source": [
    "- <p style=\"color:red;\"> ベクトル xx := (x, dx, th, dth) を **状態ベクトル** という．</p>"
   ]
  },
  {
   "cell_type": "code",
   "execution_count": null,
   "metadata": {},
   "outputs": [],
   "source": [
    "print(xxs) #各行が状態ベクトル，下に向かって時間が進行"
   ]
  },
  {
   "cell_type": "markdown",
   "metadata": {},
   "source": [
    "### ４．数値解の振動波形を確認する"
   ]
  },
  {
   "cell_type": "markdown",
   "metadata": {
    "colab_type": "text",
    "id": "DvGcXAq_v7hC"
   },
   "source": [
    "#### 振動波形を描く関数"
   ]
  },
  {
   "cell_type": "code",
   "execution_count": null,
   "metadata": {
    "colab": {
     "base_uri": "https://localhost:8080/",
     "height": 299
    },
    "colab_type": "code",
    "executionInfo": {
     "elapsed": 1085,
     "status": "ok",
     "timestamp": 1593045637712,
     "user": {
      "displayName": "",
      "photoUrl": "",
      "userId": ""
     },
     "user_tz": -540
    },
    "id": "PnKodoHiv7hp",
    "outputId": "19136c38-97ce-403a-864c-dbbe4c8beccb"
   },
   "outputs": [],
   "source": [
    "def Plot_Wave(ts, xxs):\n",
    "    plt.plot(ts,xxs[:,0],label='x')        #台車の変位\n",
    "    plt.plot(ts,xxs[:,1],label='dx/dt')    #台車の速度\n",
    "    plt.plot(ts,xxs[:,2],label='th')       #振り子の角度\n",
    "    plt.plot(ts,xxs[:,3],label='d(th)/dt') #振り子の角速度\n",
    "    plt.xlabel('t')\n",
    "    plt.ylabel('States')\n",
    "    plt.legend()"
   ]
  },
  {
   "cell_type": "markdown",
   "metadata": {},
   "source": [
    "#### 数値解の振動波形"
   ]
  },
  {
   "cell_type": "code",
   "execution_count": null,
   "metadata": {},
   "outputs": [],
   "source": [
    "Plot_Wave(ts, xxs)"
   ]
  },
  {
   "cell_type": "markdown",
   "metadata": {
    "colab_type": "text",
    "id": "TxJfVVdJv7hy"
   },
   "source": [
    "### ５．数値解からアニメーションを作る"
   ]
  },
  {
   "cell_type": "markdown",
   "metadata": {},
   "source": [
    "#### 数値解をアニメーションする関数"
   ]
  },
  {
   "cell_type": "code",
   "execution_count": null,
   "metadata": {
    "colab": {
     "base_uri": "https://localhost:8080/",
     "height": 327
    },
    "colab_type": "code",
    "executionInfo": {
     "elapsed": 16296,
     "status": "ok",
     "timestamp": 1593046275385,
     "user": {
      "displayName": "",
      "photoUrl": "",
      "userId": ""
     },
     "user_tz": -540
    },
    "id": "GPEXREoPv7h0",
    "outputId": "0a972b89-5dec-476f-94f4-3f55e0503982"
   },
   "outputs": [],
   "source": [
    "def Animate(xxs, title='xxxxxxX'):\n",
    "    \n",
    "    ### アニメーション用のグラフ用紙を用意する\n",
    "    fig, ax = plt.subplots(figsize=(8,3)) #グラフ用紙を作る\n",
    "    plt.close() #ひとまず表示OFF\n",
    "    ax.set_xlim(-4,4)      #グラフの縦軸の範囲\n",
    "    ax.set_ylim(-1.5,1.5)  #グラフの横軸の範囲\n",
    "    ax.grid()              #グリッドon\n",
    "    ax.set_xlabel('X')     #横軸のラベル\n",
    "    ax.set_ylabel('Y')     #縦軸のラベル\n",
    "    ax.set_title(title)    #タイトル（学籍番号）\n",
    "    line1, = ax.plot([], [], lw=2) #空の描画\n",
    "\n",
    "    ### i 行目の状態ベクトルで描画データを更新する関数\n",
    "    def update_anim(i):\n",
    "        x = xxs[i,0]  #さっき計算したxxsの1列目（台車変位，添字は0）\n",
    "        th = xxs[i,2] #さっき計算したxxsの3列目（振子角度，添字は2）\n",
    "        #振り子支点の位置ベクトル\n",
    "        XM = np.array([x, 0])\n",
    "        #振り子先端の位置ベクトル\n",
    "        Xm = XM + l*np.array([sin(th), cos(th)])\n",
    "        #振り子の線分を描画    \n",
    "        line1.set_data([XM[0],Xm[0]],[XM[1],Xm[1]]) #座標データの更新\n",
    "\n",
    "    ### アニメーションデータの作成\n",
    "    n = len(xxs) #データの行数（時間きざみの総数）\n",
    "    anim = FuncAnimation(fig, update_anim, interval=100, frames=n)\n",
    "\n",
    "    ### アニメーションの出力形式の設定\n",
    "    rc('animation', html='jshtml')\n",
    "    \n",
    "    return anim"
   ]
  },
  {
   "cell_type": "markdown",
   "metadata": {},
   "source": [
    "#### 実際にアニメーションする\n",
    "- 表示されるまで少し計算時間がかかる．\n",
    "- 表示されたら，再生ボタンを押すと，アニメーションが始まる．"
   ]
  },
  {
   "cell_type": "code",
   "execution_count": null,
   "metadata": {
    "colab": {},
    "colab_type": "code",
    "id": "PXBv9Q-Rv7h_"
   },
   "outputs": [],
   "source": [
    "Animate(xxs)"
   ]
  },
  {
   "cell_type": "markdown",
   "metadata": {},
   "source": [
    "- こうしたシミュレーションでは，運動方程式に書いてない効果は，当然，再現されない．\n",
    "    - 重力に抗する力は与えていないので，振り子は落下し，それに連動して台車も動く．\n",
    "    - 床を作成していないので，振り子は下まで落ちて，スイングする．\n",
    "    - 摩擦や空気抵抗がないので，スイングは持続する．"
   ]
  },
  {
   "cell_type": "markdown",
   "metadata": {},
   "source": [
    "## 実習12.1（改）\n",
    "\n",
    "- 最初から順に実行して，ここまでくれば，実習12.1は完了しています．"
   ]
  },
  {
   "cell_type": "markdown",
   "metadata": {},
   "source": [
    "## 実習12.2（改）\n",
    "- 次のコードセルの`force`と`xx0`を，\n",
    "\n",
    "```\n",
    "def force(xx):\n",
    "    return 20*xx[2]\n",
    "\n",
    "xx0 = np.array([0, -3, 0.5, 1.2])\n",
    "```\n",
    "\n",
    "のように書き換えて実行せよ．"
   ]
  },
  {
   "cell_type": "code",
   "execution_count": null,
   "metadata": {},
   "outputs": [],
   "source": [
    "def force(xx):\n",
    "    return 0\n",
    "\n",
    "xx0 = np.array([0, 0, 0.5, 0])\n",
    "\n",
    "ts, xxs = Solve(xx0, force)\n",
    "Animate(xxs)"
   ]
  },
  {
   "cell_type": "markdown",
   "metadata": {},
   "source": [
    "## 実習12.3（改）\n",
    "- 次のコードセルの`force`と`xx0`を，\n",
    "\n",
    "```\n",
    "def force(xx):\n",
    "    return 20*xx[2] + 2*xx[3]\n",
    "\n",
    "xx0 = np.array([0, -3, 0.3, 1.2])\n",
    "```\n",
    "\n",
    "のように書き換えて実行せよ．"
   ]
  },
  {
   "cell_type": "code",
   "execution_count": null,
   "metadata": {
    "scrolled": true
   },
   "outputs": [],
   "source": [
    "def force(xx):\n",
    "    return 0\n",
    "\n",
    "xx0 = np.array([0, 0, 0.5, 0])\n",
    "\n",
    "ts, xxs = Solve(xx0, force)\n",
    "Animate(xxs)"
   ]
  },
  {
   "cell_type": "markdown",
   "metadata": {},
   "source": [
    "## 実習12.4（改）\n",
    "\n",
    "- 次のコードセルの`K`と`L`の数値を自分で書き換え（必要なら`xx0`も），次の2種類の運動を実現せよ．\n",
    "\n",
    " (1) 振動しながら立位に向う運動．  \n",
    " (2) 振動しないで立位に向う運動．"
   ]
  },
  {
   "cell_type": "code",
   "execution_count": null,
   "metadata": {},
   "outputs": [],
   "source": [
    "def force(xx):\n",
    "    K = 20\n",
    "    L = 2\n",
    "    return K*xx[2] + L*xx[3]\n",
    "\n",
    "xx0 = np.array([0, -3, 0.3, 1.2])\n",
    "\n",
    "ts, xxs = Solve(xx0, force)\n",
    "Animate(xxs)"
   ]
  }
 ],
 "metadata": {
  "colab": {
   "name": "pend.ipynb のコピー",
   "provenance": [
    {
     "file_id": "https://github.com/ktysd/mdyn-pub/blob/master/robo1/pend.ipynb",
     "timestamp": 1593046605231
    }
   ]
  },
  "kernelspec": {
   "display_name": "Python 3",
   "language": "python",
   "name": "python3"
  },
  "language_info": {
   "codemirror_mode": {
    "name": "ipython",
    "version": 3
   },
   "file_extension": ".py",
   "mimetype": "text/x-python",
   "name": "python",
   "nbconvert_exporter": "python",
   "pygments_lexer": "ipython3",
   "version": "3.6.7"
  }
 },
 "nbformat": 4,
 "nbformat_minor": 2
}
